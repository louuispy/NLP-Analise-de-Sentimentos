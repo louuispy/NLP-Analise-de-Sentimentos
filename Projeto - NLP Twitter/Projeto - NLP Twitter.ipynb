{
 "cells": [
  {
   "cell_type": "markdown",
   "id": "83a90617",
   "metadata": {},
   "source": [
    "# Projeto - NLP (Análise de sentimentos utilizando base de dados do Twitter)"
   ]
  },
  {
   "cell_type": "markdown",
   "id": "4827e0d3",
   "metadata": {},
   "source": [
    "## Imports"
   ]
  },
  {
   "cell_type": "code",
   "execution_count": 1,
   "id": "45a71346",
   "metadata": {},
   "outputs": [],
   "source": [
    "import pandas as pd\n",
    "import string\n",
    "import spacy\n",
    "import random\n",
    "import seaborn as sns\n",
    "import numpy as np\n",
    "import re"
   ]
  },
  {
   "cell_type": "markdown",
   "id": "83a36cfc",
   "metadata": {},
   "source": [
    "## Base de treinamento"
   ]
  },
  {
   "cell_type": "code",
   "execution_count": 2,
   "id": "8e114b48",
   "metadata": {},
   "outputs": [],
   "source": [
    "base_treinamento = pd.read_csv('Train50.csv', on_bad_lines='skip', delimiter=';')"
   ]
  },
  {
   "cell_type": "code",
   "execution_count": 3,
   "id": "bd5a5eb6",
   "metadata": {},
   "outputs": [
    {
     "data": {
      "text/plain": [
       "(50000, 5)"
      ]
     },
     "execution_count": 3,
     "metadata": {},
     "output_type": "execute_result"
    }
   ],
   "source": [
    "base_treinamento.shape"
   ]
  },
  {
   "cell_type": "code",
   "execution_count": 4,
   "id": "1990dc6a",
   "metadata": {},
   "outputs": [
    {
     "data": {
      "text/html": [
       "<div>\n",
       "<style scoped>\n",
       "    .dataframe tbody tr th:only-of-type {\n",
       "        vertical-align: middle;\n",
       "    }\n",
       "\n",
       "    .dataframe tbody tr th {\n",
       "        vertical-align: top;\n",
       "    }\n",
       "\n",
       "    .dataframe thead th {\n",
       "        text-align: right;\n",
       "    }\n",
       "</style>\n",
       "<table border=\"1\" class=\"dataframe\">\n",
       "  <thead>\n",
       "    <tr style=\"text-align: right;\">\n",
       "      <th></th>\n",
       "      <th>id</th>\n",
       "      <th>tweet_text</th>\n",
       "      <th>tweet_date</th>\n",
       "      <th>sentiment</th>\n",
       "      <th>query_used</th>\n",
       "    </tr>\n",
       "  </thead>\n",
       "  <tbody>\n",
       "    <tr>\n",
       "      <th>0</th>\n",
       "      <td>1050785521201541121</td>\n",
       "      <td>@Laranjito76 A pessoa certa para isso seria o ...</td>\n",
       "      <td>Fri Oct 12 16:29:25 +0000 2018</td>\n",
       "      <td>1</td>\n",
       "      <td>:)</td>\n",
       "    </tr>\n",
       "    <tr>\n",
       "      <th>1</th>\n",
       "      <td>1050785431955140608</td>\n",
       "      <td>@behin_d_curtain Para mim, é precisamente o co...</td>\n",
       "      <td>Fri Oct 12 16:29:04 +0000 2018</td>\n",
       "      <td>1</td>\n",
       "      <td>:)</td>\n",
       "    </tr>\n",
       "    <tr>\n",
       "      <th>2</th>\n",
       "      <td>1050785401248645120</td>\n",
       "      <td>Vou fazer um video hoje... estou pensando em f...</td>\n",
       "      <td>Fri Oct 12 16:28:56 +0000 2018</td>\n",
       "      <td>1</td>\n",
       "      <td>:)</td>\n",
       "    </tr>\n",
       "    <tr>\n",
       "      <th>3</th>\n",
       "      <td>1050785370982547461</td>\n",
       "      <td>aaaaaaaa amei tanto essas polaroids, nem sei e...</td>\n",
       "      <td>Fri Oct 12 16:28:49 +0000 2018</td>\n",
       "      <td>1</td>\n",
       "      <td>:)</td>\n",
       "    </tr>\n",
       "    <tr>\n",
       "      <th>4</th>\n",
       "      <td>1050785368902131713</td>\n",
       "      <td>Valoriza o coração do menininho que vc tem. El...</td>\n",
       "      <td>Fri Oct 12 16:28:49 +0000 2018</td>\n",
       "      <td>1</td>\n",
       "      <td>:)</td>\n",
       "    </tr>\n",
       "  </tbody>\n",
       "</table>\n",
       "</div>"
      ],
      "text/plain": [
       "                    id                                         tweet_text  \\\n",
       "0  1050785521201541121  @Laranjito76 A pessoa certa para isso seria o ...   \n",
       "1  1050785431955140608  @behin_d_curtain Para mim, é precisamente o co...   \n",
       "2  1050785401248645120  Vou fazer um video hoje... estou pensando em f...   \n",
       "3  1050785370982547461  aaaaaaaa amei tanto essas polaroids, nem sei e...   \n",
       "4  1050785368902131713  Valoriza o coração do menininho que vc tem. El...   \n",
       "\n",
       "                       tweet_date  sentiment query_used  \n",
       "0  Fri Oct 12 16:29:25 +0000 2018          1         :)  \n",
       "1  Fri Oct 12 16:29:04 +0000 2018          1         :)  \n",
       "2  Fri Oct 12 16:28:56 +0000 2018          1         :)  \n",
       "3  Fri Oct 12 16:28:49 +0000 2018          1         :)  \n",
       "4  Fri Oct 12 16:28:49 +0000 2018          1         :)  "
      ]
     },
     "execution_count": 4,
     "metadata": {},
     "output_type": "execute_result"
    }
   ],
   "source": [
    "base_treinamento.head()"
   ]
  },
  {
   "cell_type": "code",
   "execution_count": 5,
   "id": "93d44c0b",
   "metadata": {},
   "outputs": [
    {
     "data": {
      "text/plain": [
       "<Axes: ylabel='count'>"
      ]
     },
     "execution_count": 5,
     "metadata": {},
     "output_type": "execute_result"
    },
    {
     "data": {
      "image/png": "[encoded data removed]",
      "text/plain": [
       "<Figure size 640x480 with 1 Axes>"
      ]
     },
     "metadata": {},
     "output_type": "display_data"
    }
   ],
   "source": [
    "sns.countplot(base_treinamento['sentiment'], label = 'Contagem')"
   ]
  },
  {
   "cell_type": "code",
   "execution_count": 6,
   "id": "7b196bf7",
   "metadata": {},
   "outputs": [],
   "source": [
    "# Deletando as colunas que não serão utilizadas\n",
    "base_treinamento.drop(['id', 'tweet_date', 'query_used'], axis = 1, inplace = True)"
   ]
  },
  {
   "cell_type": "code",
   "execution_count": 7,
   "id": "a70206d5",
   "metadata": {},
   "outputs": [
    {
     "data": {
      "text/html": [
       "<div>\n",
       "<style scoped>\n",
       "    .dataframe tbody tr th:only-of-type {\n",
       "        vertical-align: middle;\n",
       "    }\n",
       "\n",
       "    .dataframe tbody tr th {\n",
       "        vertical-align: top;\n",
       "    }\n",
       "\n",
       "    .dataframe thead th {\n",
       "        text-align: right;\n",
       "    }\n",
       "</style>\n",
       "<table border=\"1\" class=\"dataframe\">\n",
       "  <thead>\n",
       "    <tr style=\"text-align: right;\">\n",
       "      <th></th>\n",
       "      <th>tweet_text</th>\n",
       "      <th>sentiment</th>\n",
       "    </tr>\n",
       "  </thead>\n",
       "  <tbody>\n",
       "    <tr>\n",
       "      <th>0</th>\n",
       "      <td>@Laranjito76 A pessoa certa para isso seria o ...</td>\n",
       "      <td>1</td>\n",
       "    </tr>\n",
       "    <tr>\n",
       "      <th>1</th>\n",
       "      <td>@behin_d_curtain Para mim, é precisamente o co...</td>\n",
       "      <td>1</td>\n",
       "    </tr>\n",
       "    <tr>\n",
       "      <th>2</th>\n",
       "      <td>Vou fazer um video hoje... estou pensando em f...</td>\n",
       "      <td>1</td>\n",
       "    </tr>\n",
       "    <tr>\n",
       "      <th>3</th>\n",
       "      <td>aaaaaaaa amei tanto essas polaroids, nem sei e...</td>\n",
       "      <td>1</td>\n",
       "    </tr>\n",
       "    <tr>\n",
       "      <th>4</th>\n",
       "      <td>Valoriza o coração do menininho que vc tem. El...</td>\n",
       "      <td>1</td>\n",
       "    </tr>\n",
       "  </tbody>\n",
       "</table>\n",
       "</div>"
      ],
      "text/plain": [
       "                                          tweet_text  sentiment\n",
       "0  @Laranjito76 A pessoa certa para isso seria o ...          1\n",
       "1  @behin_d_curtain Para mim, é precisamente o co...          1\n",
       "2  Vou fazer um video hoje... estou pensando em f...          1\n",
       "3  aaaaaaaa amei tanto essas polaroids, nem sei e...          1\n",
       "4  Valoriza o coração do menininho que vc tem. El...          1"
      ]
     },
     "execution_count": 7,
     "metadata": {},
     "output_type": "execute_result"
    }
   ],
   "source": [
    "base_treinamento.head()"
   ]
  },
  {
   "cell_type": "code",
   "execution_count": 8,
   "id": "df864993",
   "metadata": {},
   "outputs": [
    {
     "data": {
      "image/png": "[encoded data removed]",
      "text/plain": [
       "<Figure size 640x480 with 2 Axes>"
      ]
     },
     "metadata": {},
     "output_type": "display_data"
    }
   ],
   "source": [
    "sns.heatmap(pd.isnull(base_treinamento));"
   ]
  },
  {
   "cell_type": "markdown",
   "id": "87832644",
   "metadata": {},
   "source": [
    "## Base de teste"
   ]
  },
  {
   "cell_type": "code",
   "execution_count": 9,
   "id": "e0a68c5f",
   "metadata": {},
   "outputs": [],
   "source": [
    "base_teste = pd.read_csv('Test.csv', delimiter=';')"
   ]
  },
  {
   "cell_type": "code",
   "execution_count": 10,
   "id": "ae63768f",
   "metadata": {},
   "outputs": [
    {
     "data": {
      "text/html": [
       "<div>\n",
       "<style scoped>\n",
       "    .dataframe tbody tr th:only-of-type {\n",
       "        vertical-align: middle;\n",
       "    }\n",
       "\n",
       "    .dataframe tbody tr th {\n",
       "        vertical-align: top;\n",
       "    }\n",
       "\n",
       "    .dataframe thead th {\n",
       "        text-align: right;\n",
       "    }\n",
       "</style>\n",
       "<table border=\"1\" class=\"dataframe\">\n",
       "  <thead>\n",
       "    <tr style=\"text-align: right;\">\n",
       "      <th></th>\n",
       "      <th>id</th>\n",
       "      <th>tweet_text</th>\n",
       "      <th>tweet_date</th>\n",
       "      <th>sentiment</th>\n",
       "      <th>query_used</th>\n",
       "    </tr>\n",
       "  </thead>\n",
       "  <tbody>\n",
       "    <tr>\n",
       "      <th>0</th>\n",
       "      <td>1029536486021099522</td>\n",
       "      <td>@Gazo1a Nossa! Muito obrigada :)</td>\n",
       "      <td>Wed Aug 15 01:13:20 +0000 2018</td>\n",
       "      <td>1</td>\n",
       "      <td>:)</td>\n",
       "    </tr>\n",
       "    <tr>\n",
       "      <th>1</th>\n",
       "      <td>1029536496368406528</td>\n",
       "      <td>@BerzGamer vai pa puta que te pariu :)</td>\n",
       "      <td>Wed Aug 15 01:13:23 +0000 2018</td>\n",
       "      <td>1</td>\n",
       "      <td>:)</td>\n",
       "    </tr>\n",
       "    <tr>\n",
       "      <th>2</th>\n",
       "      <td>1029536531655131137</td>\n",
       "      <td>QUER MAIS DESCONTOS? (14/08) ⭐⭐⭐⭐⭐ 🌐 Confira n...</td>\n",
       "      <td>Wed Aug 15 01:13:31 +0000 2018</td>\n",
       "      <td>1</td>\n",
       "      <td>:)</td>\n",
       "    </tr>\n",
       "    <tr>\n",
       "      <th>3</th>\n",
       "      <td>1029536560117678081</td>\n",
       "      <td>EU VOU PEGAR VCS, ME AJUDEM GALERA, PELO AMOR ...</td>\n",
       "      <td>Wed Aug 15 01:13:38 +0000 2018</td>\n",
       "      <td>1</td>\n",
       "      <td>:)</td>\n",
       "    </tr>\n",
       "    <tr>\n",
       "      <th>4</th>\n",
       "      <td>1029536605852377088</td>\n",
       "      <td>Estávamos em casa do Zé e eu estava a morrer d...</td>\n",
       "      <td>Wed Aug 15 01:13:49 +0000 2018</td>\n",
       "      <td>1</td>\n",
       "      <td>:)</td>\n",
       "    </tr>\n",
       "  </tbody>\n",
       "</table>\n",
       "</div>"
      ],
      "text/plain": [
       "                    id                                         tweet_text  \\\n",
       "0  1029536486021099522                   @Gazo1a Nossa! Muito obrigada :)   \n",
       "1  1029536496368406528             @BerzGamer vai pa puta que te pariu :)   \n",
       "2  1029536531655131137  QUER MAIS DESCONTOS? (14/08) ⭐⭐⭐⭐⭐ 🌐 Confira n...   \n",
       "3  1029536560117678081  EU VOU PEGAR VCS, ME AJUDEM GALERA, PELO AMOR ...   \n",
       "4  1029536605852377088  Estávamos em casa do Zé e eu estava a morrer d...   \n",
       "\n",
       "                       tweet_date  sentiment query_used  \n",
       "0  Wed Aug 15 01:13:20 +0000 2018          1         :)  \n",
       "1  Wed Aug 15 01:13:23 +0000 2018          1         :)  \n",
       "2  Wed Aug 15 01:13:31 +0000 2018          1         :)  \n",
       "3  Wed Aug 15 01:13:38 +0000 2018          1         :)  \n",
       "4  Wed Aug 15 01:13:49 +0000 2018          1         :)  "
      ]
     },
     "execution_count": 10,
     "metadata": {},
     "output_type": "execute_result"
    }
   ],
   "source": [
    "base_teste.head()"
   ]
  },
  {
   "cell_type": "code",
   "execution_count": 11,
   "id": "13b794e9",
   "metadata": {},
   "outputs": [
    {
     "data": {
      "text/plain": [
       "(5000, 5)"
      ]
     },
     "execution_count": 11,
     "metadata": {},
     "output_type": "execute_result"
    }
   ],
   "source": [
    "base_teste.shape"
   ]
  },
  {
   "cell_type": "code",
   "execution_count": 12,
   "id": "226d3662",
   "metadata": {},
   "outputs": [],
   "source": [
    "base_teste.drop(['id', 'tweet_date', 'query_used'], axis = 1, inplace=True)"
   ]
  },
  {
   "cell_type": "code",
   "execution_count": 13,
   "id": "ce4f2e37",
   "metadata": {},
   "outputs": [
    {
     "data": {
      "text/html": [
       "<div>\n",
       "<style scoped>\n",
       "    .dataframe tbody tr th:only-of-type {\n",
       "        vertical-align: middle;\n",
       "    }\n",
       "\n",
       "    .dataframe tbody tr th {\n",
       "        vertical-align: top;\n",
       "    }\n",
       "\n",
       "    .dataframe thead th {\n",
       "        text-align: right;\n",
       "    }\n",
       "</style>\n",
       "<table border=\"1\" class=\"dataframe\">\n",
       "  <thead>\n",
       "    <tr style=\"text-align: right;\">\n",
       "      <th></th>\n",
       "      <th>tweet_text</th>\n",
       "      <th>sentiment</th>\n",
       "    </tr>\n",
       "  </thead>\n",
       "  <tbody>\n",
       "    <tr>\n",
       "      <th>0</th>\n",
       "      <td>@Gazo1a Nossa! Muito obrigada :)</td>\n",
       "      <td>1</td>\n",
       "    </tr>\n",
       "    <tr>\n",
       "      <th>1</th>\n",
       "      <td>@BerzGamer vai pa puta que te pariu :)</td>\n",
       "      <td>1</td>\n",
       "    </tr>\n",
       "    <tr>\n",
       "      <th>2</th>\n",
       "      <td>QUER MAIS DESCONTOS? (14/08) ⭐⭐⭐⭐⭐ 🌐 Confira n...</td>\n",
       "      <td>1</td>\n",
       "    </tr>\n",
       "    <tr>\n",
       "      <th>3</th>\n",
       "      <td>EU VOU PEGAR VCS, ME AJUDEM GALERA, PELO AMOR ...</td>\n",
       "      <td>1</td>\n",
       "    </tr>\n",
       "    <tr>\n",
       "      <th>4</th>\n",
       "      <td>Estávamos em casa do Zé e eu estava a morrer d...</td>\n",
       "      <td>1</td>\n",
       "    </tr>\n",
       "  </tbody>\n",
       "</table>\n",
       "</div>"
      ],
      "text/plain": [
       "                                          tweet_text  sentiment\n",
       "0                   @Gazo1a Nossa! Muito obrigada :)          1\n",
       "1             @BerzGamer vai pa puta que te pariu :)          1\n",
       "2  QUER MAIS DESCONTOS? (14/08) ⭐⭐⭐⭐⭐ 🌐 Confira n...          1\n",
       "3  EU VOU PEGAR VCS, ME AJUDEM GALERA, PELO AMOR ...          1\n",
       "4  Estávamos em casa do Zé e eu estava a morrer d...          1"
      ]
     },
     "execution_count": 13,
     "metadata": {},
     "output_type": "execute_result"
    }
   ],
   "source": [
    "base_teste.head()"
   ]
  },
  {
   "cell_type": "code",
   "execution_count": 14,
   "id": "52f48eba",
   "metadata": {},
   "outputs": [
    {
     "data": {
      "image/png": "[encoded data removed]",
      "text/plain": [
       "<Figure size 640x480 with 2 Axes>"
      ]
     },
     "metadata": {},
     "output_type": "display_data"
    }
   ],
   "source": [
    "sns.heatmap(pd.isnull(base_teste));"
   ]
  },
  {
   "cell_type": "markdown",
   "id": "3497961e",
   "metadata": {},
   "source": [
    "## Pré-processamento dos textos"
   ]
  },
  {
   "cell_type": "markdown",
   "id": "72af0b77",
   "metadata": {},
   "source": [
    "- Letras minúsculas\n",
    "- Nome do usuário (@)\n",
    "- URLs\n",
    "- Espaços em branco\n",
    "- Emoticons\n",
    "- Stop words\n",
    "- Lematização\n",
    "- Pontuações"
   ]
  },
  {
   "cell_type": "code",
   "execution_count": 15,
   "id": "ce288e0c",
   "metadata": {},
   "outputs": [
    {
     "data": {
      "text/plain": [
       "<spacy.lang.pt.Portuguese at 0x1efbd16f010>"
      ]
     },
     "execution_count": 15,
     "metadata": {},
     "output_type": "execute_result"
    }
   ],
   "source": [
    "pln = spacy.load('pt_core_news_sm')\n",
    "pln"
   ]
  },
  {
   "cell_type": "code",
   "execution_count": 16,
   "id": "31950e3f",
   "metadata": {},
   "outputs": [],
   "source": [
    "from spacy.lang.pt.stop_words import STOP_WORDS\n",
    "stop_words = STOP_WORDS"
   ]
  },
  {
   "cell_type": "code",
   "execution_count": 17,
   "id": "92305b4d",
   "metadata": {},
   "outputs": [],
   "source": [
    "def preprocessamento(texto):\n",
    "    # Letras minúsculas\n",
    "    texto = texto.lower()\n",
    "    \n",
    "    # Nome do usuário\n",
    "    texto = re.sub(r\"@[A-Za-z0-9$-_@.&+]+\", ' ', texto)\n",
    "    \n",
    "    # URLs\n",
    "    texto = re.sub(r\"https?://[A-Za-z0-9./]+\", ' ', texto)\n",
    "    \n",
    "    # Espaços em branco\n",
    "    texto = re.sub(r\" +\", ' ', texto)\n",
    "    \n",
    "    # Emoticons\n",
    "    lista_emocoes = {':)': 'emocaopositiva',\n",
    "                    ':d': 'emocaopositiva',\n",
    "                    ':(': 'emocaonegativa'}\n",
    "    for emocao in lista_emocoes:\n",
    "        texto = texto.replace(emocao, lista_emocoes[emocao])\n",
    "        \n",
    "    # Lematização\n",
    "    documento = pln(texto)\n",
    "    \n",
    "    lista = []\n",
    "    for token in documento:\n",
    "        lista.append(token.lemma_)\n",
    "        \n",
    "    # Stop words e pontuações\n",
    "    lista = [palavra for palavra in lista if palavra not in stop_words and palavra not in string.punctuation]\n",
    "    lista = ' '.join([str(elemento) for elemento in lista if not elemento.isdigit()])\n",
    "    \n",
    "    return lista"
   ]
  },
  {
   "cell_type": "markdown",
   "id": "badd0a1b",
   "metadata": {},
   "source": [
    "## Pré-processamento da base de dados"
   ]
  },
  {
   "cell_type": "markdown",
   "id": "0787a135",
   "metadata": {},
   "source": [
    "### Limpeza dos textos"
   ]
  },
  {
   "cell_type": "code",
   "execution_count": 18,
   "id": "cc8f0a30",
   "metadata": {},
   "outputs": [
    {
     "data": {
      "text/html": [
       "<div>\n",
       "<style scoped>\n",
       "    .dataframe tbody tr th:only-of-type {\n",
       "        vertical-align: middle;\n",
       "    }\n",
       "\n",
       "    .dataframe tbody tr th {\n",
       "        vertical-align: top;\n",
       "    }\n",
       "\n",
       "    .dataframe thead th {\n",
       "        text-align: right;\n",
       "    }\n",
       "</style>\n",
       "<table border=\"1\" class=\"dataframe\">\n",
       "  <thead>\n",
       "    <tr style=\"text-align: right;\">\n",
       "      <th></th>\n",
       "      <th>tweet_text</th>\n",
       "      <th>sentiment</th>\n",
       "    </tr>\n",
       "  </thead>\n",
       "  <tbody>\n",
       "    <tr>\n",
       "      <th>0</th>\n",
       "      <td>@Laranjito76 A pessoa certa para isso seria o ...</td>\n",
       "      <td>1</td>\n",
       "    </tr>\n",
       "    <tr>\n",
       "      <th>1</th>\n",
       "      <td>@behin_d_curtain Para mim, é precisamente o co...</td>\n",
       "      <td>1</td>\n",
       "    </tr>\n",
       "    <tr>\n",
       "      <th>2</th>\n",
       "      <td>Vou fazer um video hoje... estou pensando em f...</td>\n",
       "      <td>1</td>\n",
       "    </tr>\n",
       "    <tr>\n",
       "      <th>3</th>\n",
       "      <td>aaaaaaaa amei tanto essas polaroids, nem sei e...</td>\n",
       "      <td>1</td>\n",
       "    </tr>\n",
       "    <tr>\n",
       "      <th>4</th>\n",
       "      <td>Valoriza o coração do menininho que vc tem. El...</td>\n",
       "      <td>1</td>\n",
       "    </tr>\n",
       "  </tbody>\n",
       "</table>\n",
       "</div>"
      ],
      "text/plain": [
       "                                          tweet_text  sentiment\n",
       "0  @Laranjito76 A pessoa certa para isso seria o ...          1\n",
       "1  @behin_d_curtain Para mim, é precisamente o co...          1\n",
       "2  Vou fazer um video hoje... estou pensando em f...          1\n",
       "3  aaaaaaaa amei tanto essas polaroids, nem sei e...          1\n",
       "4  Valoriza o coração do menininho que vc tem. El...          1"
      ]
     },
     "execution_count": 18,
     "metadata": {},
     "output_type": "execute_result"
    }
   ],
   "source": [
    "base_treinamento.head()"
   ]
  },
  {
   "cell_type": "code",
   "execution_count": 19,
   "id": "1337cf34",
   "metadata": {},
   "outputs": [],
   "source": [
    "base_treinamento['tweet_text'] = base_treinamento['tweet_text'].apply(preprocessamento)"
   ]
  },
  {
   "cell_type": "code",
   "execution_count": 20,
   "id": "c8b93e30",
   "metadata": {},
   "outputs": [
    {
     "data": {
      "text/html": [
       "<div>\n",
       "<style scoped>\n",
       "    .dataframe tbody tr th:only-of-type {\n",
       "        vertical-align: middle;\n",
       "    }\n",
       "\n",
       "    .dataframe tbody tr th {\n",
       "        vertical-align: top;\n",
       "    }\n",
       "\n",
       "    .dataframe thead th {\n",
       "        text-align: right;\n",
       "    }\n",
       "</style>\n",
       "<table border=\"1\" class=\"dataframe\">\n",
       "  <thead>\n",
       "    <tr style=\"text-align: right;\">\n",
       "      <th></th>\n",
       "      <th>tweet_text</th>\n",
       "      <th>sentiment</th>\n",
       "    </tr>\n",
       "  </thead>\n",
       "  <tbody>\n",
       "    <tr>\n",
       "      <th>0</th>\n",
       "      <td>pessoa certo vale azevedo emocaopositivo</td>\n",
       "      <td>1</td>\n",
       "    </tr>\n",
       "    <tr>\n",
       "      <th>1</th>\n",
       "      <td>precisamente contrário emocaopositiva vir ch...</td>\n",
       "      <td>1</td>\n",
       "    </tr>\n",
       "    <tr>\n",
       "      <th>2</th>\n",
       "      <td>video hoje ... pensar falar meta de o csgo pag...</td>\n",
       "      <td>1</td>\n",
       "    </tr>\n",
       "    <tr>\n",
       "      <th>3</th>\n",
       "      <td>Aaaaaaaa amei polaroids expressar to apaixonar...</td>\n",
       "      <td>1</td>\n",
       "    </tr>\n",
       "    <tr>\n",
       "      <th>4</th>\n",
       "      <td>valorizar coração de o menininho vc diferente ...</td>\n",
       "      <td>1</td>\n",
       "    </tr>\n",
       "    <tr>\n",
       "      <th>5</th>\n",
       "      <td>amiga to emocaopositivo</td>\n",
       "      <td>1</td>\n",
       "    </tr>\n",
       "    <tr>\n",
       "      <th>6</th>\n",
       "      <td>bravo jairo emocaopositivo</td>\n",
       "      <td>1</td>\n",
       "    </tr>\n",
       "    <tr>\n",
       "      <th>7</th>\n",
       "      <td>socorro ksoaksosks achar to em o caixinha so...</td>\n",
       "      <td>1</td>\n",
       "    </tr>\n",
       "    <tr>\n",
       "      <th>8</th>\n",
       "      <td>gostar fazenda emocaopositivo morro medo gal...</td>\n",
       "      <td>1</td>\n",
       "    </tr>\n",
       "    <tr>\n",
       "      <th>9</th>\n",
       "      <td>amanha venom emocaopositivo</td>\n",
       "      <td>1</td>\n",
       "    </tr>\n",
       "  </tbody>\n",
       "</table>\n",
       "</div>"
      ],
      "text/plain": [
       "                                          tweet_text  sentiment\n",
       "0           pessoa certo vale azevedo emocaopositivo          1\n",
       "1    precisamente contrário emocaopositiva vir ch...          1\n",
       "2  video hoje ... pensar falar meta de o csgo pag...          1\n",
       "3  Aaaaaaaa amei polaroids expressar to apaixonar...          1\n",
       "4  valorizar coração de o menininho vc diferente ...          1\n",
       "5                            amiga to emocaopositivo          1\n",
       "6                         bravo jairo emocaopositivo          1\n",
       "7    socorro ksoaksosks achar to em o caixinha so...          1\n",
       "8    gostar fazenda emocaopositivo morro medo gal...          1\n",
       "9                        amanha venom emocaopositivo          1"
      ]
     },
     "execution_count": 20,
     "metadata": {},
     "output_type": "execute_result"
    }
   ],
   "source": [
    "base_treinamento.head(10)"
   ]
  },
  {
   "cell_type": "code",
   "execution_count": 21,
   "id": "2fbb28cb",
   "metadata": {},
   "outputs": [],
   "source": [
    "base_teste['tweet_text'] = base_teste['tweet_text'].apply(preprocessamento)"
   ]
  },
  {
   "cell_type": "code",
   "execution_count": 22,
   "id": "d64b7d85",
   "metadata": {},
   "outputs": [
    {
     "data": {
      "text/html": [
       "<div>\n",
       "<style scoped>\n",
       "    .dataframe tbody tr th:only-of-type {\n",
       "        vertical-align: middle;\n",
       "    }\n",
       "\n",
       "    .dataframe tbody tr th {\n",
       "        vertical-align: top;\n",
       "    }\n",
       "\n",
       "    .dataframe thead th {\n",
       "        text-align: right;\n",
       "    }\n",
       "</style>\n",
       "<table border=\"1\" class=\"dataframe\">\n",
       "  <thead>\n",
       "    <tr style=\"text-align: right;\">\n",
       "      <th></th>\n",
       "      <th>tweet_text</th>\n",
       "      <th>sentiment</th>\n",
       "    </tr>\n",
       "  </thead>\n",
       "  <tbody>\n",
       "    <tr>\n",
       "      <th>0</th>\n",
       "      <td>emocaopositivo</td>\n",
       "      <td>1</td>\n",
       "    </tr>\n",
       "    <tr>\n",
       "      <th>1</th>\n",
       "      <td>pa puta parir emocaopositiva</td>\n",
       "      <td>1</td>\n",
       "    </tr>\n",
       "    <tr>\n",
       "      <th>2</th>\n",
       "      <td>querer desconto 14/08 ⭐ ⭐ ⭐ ⭐ ⭐ 🌐 confiro em o...</td>\n",
       "      <td>1</td>\n",
       "    </tr>\n",
       "    <tr>\n",
       "      <th>3</th>\n",
       "      <td>vcs ajudar galera por o amor butera emocaoposi...</td>\n",
       "      <td>1</td>\n",
       "    </tr>\n",
       "    <tr>\n",
       "      <th>4</th>\n",
       "      <td>casa de o zé morrer sono chegar casa fico sono...</td>\n",
       "      <td>1</td>\n",
       "    </tr>\n",
       "    <tr>\n",
       "      <th>5</th>\n",
       "      <td>precisar emocaopositivo</td>\n",
       "      <td>1</td>\n",
       "    </tr>\n",
       "    <tr>\n",
       "      <th>6</th>\n",
       "      <td>acaso adorar beijo abraço hahahahaha bue fof...</td>\n",
       "      <td>1</td>\n",
       "    </tr>\n",
       "    <tr>\n",
       "      <th>7</th>\n",
       "      <td>solteiro s sozinho emocaopositivo</td>\n",
       "      <td>1</td>\n",
       "    </tr>\n",
       "    <tr>\n",
       "      <th>8</th>\n",
       "      <td>lindeza cortador kit Mário coleção ber Cravol ...</td>\n",
       "      <td>1</td>\n",
       "    </tr>\n",
       "    <tr>\n",
       "      <th>9</th>\n",
       "      <td>claro emocaopositivo</td>\n",
       "      <td>1</td>\n",
       "    </tr>\n",
       "  </tbody>\n",
       "</table>\n",
       "</div>"
      ],
      "text/plain": [
       "                                          tweet_text  sentiment\n",
       "0                                     emocaopositivo          1\n",
       "1                       pa puta parir emocaopositiva          1\n",
       "2  querer desconto 14/08 ⭐ ⭐ ⭐ ⭐ ⭐ 🌐 confiro em o...          1\n",
       "3  vcs ajudar galera por o amor butera emocaoposi...          1\n",
       "4  casa de o zé morrer sono chegar casa fico sono...          1\n",
       "5                            precisar emocaopositivo          1\n",
       "6    acaso adorar beijo abraço hahahahaha bue fof...          1\n",
       "7                  solteiro s sozinho emocaopositivo          1\n",
       "8  lindeza cortador kit Mário coleção ber Cravol ...          1\n",
       "9                               claro emocaopositivo          1"
      ]
     },
     "execution_count": 22,
     "metadata": {},
     "output_type": "execute_result"
    }
   ],
   "source": [
    "base_teste.head(10)"
   ]
  },
  {
   "cell_type": "markdown",
   "id": "4a9e466d",
   "metadata": {},
   "source": [
    "### Tratamento da classe"
   ]
  },
  {
   "cell_type": "code",
   "execution_count": 23,
   "id": "ea1458a0",
   "metadata": {},
   "outputs": [],
   "source": [
    "base_dados_treinamento_final = []\n",
    "for texto, emocao in zip(base_treinamento['tweet_text'], base_treinamento['sentiment']):\n",
    "    if emocao == 1:\n",
    "        dic = ({'POSITIVO': True, 'NEGATIVO': False})\n",
    "    elif emocao == 0:\n",
    "        dic = ({'POSITIVO': False, 'NEGATIVO': True})\n",
    "    base_dados_treinamento_final.append([texto, dic.copy()])"
   ]
  },
  {
   "cell_type": "code",
   "execution_count": 24,
   "id": "ce0ddddc",
   "metadata": {},
   "outputs": [
    {
     "data": {
      "text/plain": [
       "50000"
      ]
     },
     "execution_count": 24,
     "metadata": {},
     "output_type": "execute_result"
    }
   ],
   "source": [
    "len(base_dados_treinamento_final)"
   ]
  },
  {
   "cell_type": "code",
   "execution_count": 25,
   "id": "20b1e224",
   "metadata": {},
   "outputs": [
    {
     "data": {
      "text/plain": [
       "[['simplesmente deixar chatear querer muitooo iludir emocaopositivo',\n",
       "  {'POSITIVO': True, 'NEGATIVO': False}],\n",
       " ['começar rotina perfeitamente consolidar escola condução :p',\n",
       "  {'POSITIVO': True, 'NEGATIVO': False}],\n",
       " ['amigo parecer apaixonado vc — recíproco emocaopositivo',\n",
       "  {'POSITIVO': True, 'NEGATIVO': False}],\n",
       " ['  gajo bacano aleija esperar Silva feliz emocaopositivo',\n",
       "  {'POSITIVO': True, 'NEGATIVO': False}],\n",
       " ['tar video cabrinha bebé emocaopositivo',\n",
       "  {'POSITIVO': True, 'NEGATIVO': False}]]"
      ]
     },
     "execution_count": 25,
     "metadata": {},
     "output_type": "execute_result"
    }
   ],
   "source": [
    "base_dados_treinamento_final[10:15]"
   ]
  },
  {
   "cell_type": "code",
   "execution_count": 26,
   "id": "92abd3ea",
   "metadata": {},
   "outputs": [
    {
     "data": {
      "text/plain": [
       "[['menino de o pijama listrar filme triste de o mundo estrutura nenhum pra assistir rever to pensar em isso emocaonegativo',\n",
       "  {'POSITIVO': False, 'NEGATIVO': True}],\n",
       " ['pra vídeo de o Luísa Raiz poliana infelizmente twitter tá ruim amanhã postar emocaonegativo asaventurasdepoliana099',\n",
       "  {'POSITIVO': False, 'NEGATIVO': True}],\n",
       " ['to crise abstinência stranger emocaonegativo — tbm :/ to',\n",
       "  {'POSITIVO': False, 'NEGATIVO': True}],\n",
       " ['  esquecer olhar pra pagar mensalidade turma pro curso querer emocaonegativo',\n",
       "  {'POSITIVO': False, 'NEGATIVO': True}],\n",
       " ['querer comer doce comi monte hoje emocaonegativo maldição',\n",
       "  {'POSITIVO': False, 'NEGATIVO': True}]]"
      ]
     },
     "execution_count": 26,
     "metadata": {},
     "output_type": "execute_result"
    }
   ],
   "source": [
    "base_dados_treinamento_final[45000:45005]"
   ]
  },
  {
   "cell_type": "markdown",
   "id": "894cf2bd",
   "metadata": {},
   "source": [
    "## Criação do classificador"
   ]
  },
  {
   "cell_type": "code",
   "execution_count": 27,
   "id": "90a30d47",
   "metadata": {},
   "outputs": [],
   "source": [
    "modelo = spacy.blank('pt')\n",
    "categorias = modelo.add_pipe(\"textcat\")\n",
    "categorias.add_label(\"POSITIVO\")\n",
    "categorias.add_label(\"NEGATIVO\")\n",
    "historico = []"
   ]
  },
  {
   "cell_type": "code",
   "execution_count": 28,
   "id": "01e5cf81",
   "metadata": {},
   "outputs": [],
   "source": [
    "from spacy.training import Example"
   ]
  },
  {
   "cell_type": "code",
   "execution_count": 29,
   "id": "195eb17d",
   "metadata": {},
   "outputs": [
    {
     "name": "stdout",
     "output_type": "stream",
     "text": [
      "{'textcat': 1.8036449665287364}\n"
     ]
    }
   ],
   "source": [
    "modelo.begin_training()\n",
    "for epoca in range(5):\n",
    "    random.shuffle(base_dados_treinamento_final)\n",
    "    losses = {}\n",
    "    for batch in spacy.util.minibatch(base_dados_treinamento_final, 512):\n",
    "        textos = [modelo(texto) for texto, entities in batch]\n",
    "        annotations = [{'cats': entities} for texto, entities in batch]\n",
    "        examples = [Example.from_dict(doc, annotation) for doc, annotation in zip(textos, annotations)]\n",
    "        modelo.update(examples, losses=losses)\n",
    "        historico.append(losses)\n",
    "    if epoca % 5 == 0:\n",
    "        print(losses)"
   ]
  },
  {
   "cell_type": "code",
   "execution_count": 30,
   "id": "a3b1b8b6",
   "metadata": {},
   "outputs": [],
   "source": [
    "historico_loss = []\n",
    "for i in historico:\n",
    "    historico_loss.append(i.get('textcat'))"
   ]
  },
  {
   "cell_type": "code",
   "execution_count": 31,
   "id": "d9556919",
   "metadata": {},
   "outputs": [
    {
     "data": {
      "text/plain": [
       "array([1.80364497, 1.80364497, 1.80364497, 1.80364497, 1.80364497,\n",
       "       1.80364497, 1.80364497, 1.80364497, 1.80364497, 1.80364497,\n",
       "       1.80364497, 1.80364497, 1.80364497, 1.80364497, 1.80364497,\n",
       "       1.80364497, 1.80364497, 1.80364497, 1.80364497, 1.80364497,\n",
       "       1.80364497, 1.80364497, 1.80364497, 1.80364497, 1.80364497,\n",
       "       1.80364497, 1.80364497, 1.80364497, 1.80364497, 1.80364497,\n",
       "       1.80364497, 1.80364497, 1.80364497, 1.80364497, 1.80364497,\n",
       "       1.80364497, 1.80364497, 1.80364497, 1.80364497, 1.80364497,\n",
       "       1.80364497, 1.80364497, 1.80364497, 1.80364497, 1.80364497,\n",
       "       1.80364497, 1.80364497, 1.80364497, 1.80364497, 1.80364497,\n",
       "       1.80364497, 1.80364497, 1.80364497, 1.80364497, 1.80364497,\n",
       "       1.80364497, 1.80364497, 1.80364497, 1.80364497, 1.80364497,\n",
       "       1.80364497, 1.80364497, 1.80364497, 1.80364497, 1.80364497,\n",
       "       1.80364497, 1.80364497, 1.80364497, 1.80364497, 1.80364497,\n",
       "       1.80364497, 1.80364497, 1.80364497, 1.80364497, 1.80364497,\n",
       "       1.80364497, 1.80364497, 1.80364497, 1.80364497, 1.80364497,\n",
       "       1.80364497, 1.80364497, 1.80364497, 1.80364497, 1.80364497,\n",
       "       1.80364497, 1.80364497, 1.80364497, 1.80364497, 1.80364497,\n",
       "       1.80364497, 1.80364497, 1.80364497, 1.80364497, 1.80364497,\n",
       "       1.80364497, 1.80364497, 1.80364497, 0.05880155, 0.05880155,\n",
       "       0.05880155, 0.05880155, 0.05880155, 0.05880155, 0.05880155,\n",
       "       0.05880155, 0.05880155, 0.05880155, 0.05880155, 0.05880155,\n",
       "       0.05880155, 0.05880155, 0.05880155, 0.05880155, 0.05880155,\n",
       "       0.05880155, 0.05880155, 0.05880155, 0.05880155, 0.05880155,\n",
       "       0.05880155, 0.05880155, 0.05880155, 0.05880155, 0.05880155,\n",
       "       0.05880155, 0.05880155, 0.05880155, 0.05880155, 0.05880155,\n",
       "       0.05880155, 0.05880155, 0.05880155, 0.05880155, 0.05880155,\n",
       "       0.05880155, 0.05880155, 0.05880155, 0.05880155, 0.05880155,\n",
       "       0.05880155, 0.05880155, 0.05880155, 0.05880155, 0.05880155,\n",
       "       0.05880155, 0.05880155, 0.05880155, 0.05880155, 0.05880155,\n",
       "       0.05880155, 0.05880155, 0.05880155, 0.05880155, 0.05880155,\n",
       "       0.05880155, 0.05880155, 0.05880155, 0.05880155, 0.05880155,\n",
       "       0.05880155, 0.05880155, 0.05880155, 0.05880155, 0.05880155,\n",
       "       0.05880155, 0.05880155, 0.05880155, 0.05880155, 0.05880155,\n",
       "       0.05880155, 0.05880155, 0.05880155, 0.05880155, 0.05880155,\n",
       "       0.05880155, 0.05880155, 0.05880155, 0.05880155, 0.05880155,\n",
       "       0.05880155, 0.05880155, 0.05880155, 0.05880155, 0.05880155,\n",
       "       0.05880155, 0.05880155, 0.05880155, 0.05880155, 0.05880155,\n",
       "       0.05880155, 0.05880155, 0.05880155, 0.05880155, 0.05880155,\n",
       "       0.05880155, 0.02993186, 0.02993186, 0.02993186, 0.02993186,\n",
       "       0.02993186, 0.02993186, 0.02993186, 0.02993186, 0.02993186,\n",
       "       0.02993186, 0.02993186, 0.02993186, 0.02993186, 0.02993186,\n",
       "       0.02993186, 0.02993186, 0.02993186, 0.02993186, 0.02993186,\n",
       "       0.02993186, 0.02993186, 0.02993186, 0.02993186, 0.02993186,\n",
       "       0.02993186, 0.02993186, 0.02993186, 0.02993186, 0.02993186,\n",
       "       0.02993186, 0.02993186, 0.02993186, 0.02993186, 0.02993186,\n",
       "       0.02993186, 0.02993186, 0.02993186, 0.02993186, 0.02993186,\n",
       "       0.02993186, 0.02993186, 0.02993186, 0.02993186, 0.02993186,\n",
       "       0.02993186, 0.02993186, 0.02993186, 0.02993186, 0.02993186,\n",
       "       0.02993186, 0.02993186, 0.02993186, 0.02993186, 0.02993186,\n",
       "       0.02993186, 0.02993186, 0.02993186, 0.02993186, 0.02993186,\n",
       "       0.02993186, 0.02993186, 0.02993186, 0.02993186, 0.02993186,\n",
       "       0.02993186, 0.02993186, 0.02993186, 0.02993186, 0.02993186,\n",
       "       0.02993186, 0.02993186, 0.02993186, 0.02993186, 0.02993186,\n",
       "       0.02993186, 0.02993186, 0.02993186, 0.02993186, 0.02993186,\n",
       "       0.02993186, 0.02993186, 0.02993186, 0.02993186, 0.02993186,\n",
       "       0.02993186, 0.02993186, 0.02993186, 0.02993186, 0.02993186,\n",
       "       0.02993186, 0.02993186, 0.02993186, 0.02993186, 0.02993186,\n",
       "       0.02993186, 0.02993186, 0.02993186, 0.02993186, 0.00519271,\n",
       "       0.00519271, 0.00519271, 0.00519271, 0.00519271, 0.00519271,\n",
       "       0.00519271, 0.00519271, 0.00519271, 0.00519271, 0.00519271,\n",
       "       0.00519271, 0.00519271, 0.00519271, 0.00519271, 0.00519271,\n",
       "       0.00519271, 0.00519271, 0.00519271, 0.00519271, 0.00519271,\n",
       "       0.00519271, 0.00519271, 0.00519271, 0.00519271, 0.00519271,\n",
       "       0.00519271, 0.00519271, 0.00519271, 0.00519271, 0.00519271,\n",
       "       0.00519271, 0.00519271, 0.00519271, 0.00519271, 0.00519271,\n",
       "       0.00519271, 0.00519271, 0.00519271, 0.00519271, 0.00519271,\n",
       "       0.00519271, 0.00519271, 0.00519271, 0.00519271, 0.00519271,\n",
       "       0.00519271, 0.00519271, 0.00519271, 0.00519271, 0.00519271,\n",
       "       0.00519271, 0.00519271, 0.00519271, 0.00519271, 0.00519271,\n",
       "       0.00519271, 0.00519271, 0.00519271, 0.00519271, 0.00519271,\n",
       "       0.00519271, 0.00519271, 0.00519271, 0.00519271, 0.00519271,\n",
       "       0.00519271, 0.00519271, 0.00519271, 0.00519271, 0.00519271,\n",
       "       0.00519271, 0.00519271, 0.00519271, 0.00519271, 0.00519271,\n",
       "       0.00519271, 0.00519271, 0.00519271, 0.00519271, 0.00519271,\n",
       "       0.00519271, 0.00519271, 0.00519271, 0.00519271, 0.00519271,\n",
       "       0.00519271, 0.00519271, 0.00519271, 0.00519271, 0.00519271,\n",
       "       0.00519271, 0.00519271, 0.00519271, 0.00519271, 0.00519271,\n",
       "       0.00519271, 0.00519271, 0.0028809 , 0.0028809 , 0.0028809 ,\n",
       "       0.0028809 , 0.0028809 , 0.0028809 , 0.0028809 , 0.0028809 ,\n",
       "       0.0028809 , 0.0028809 , 0.0028809 , 0.0028809 , 0.0028809 ,\n",
       "       0.0028809 , 0.0028809 , 0.0028809 , 0.0028809 , 0.0028809 ,\n",
       "       0.0028809 , 0.0028809 , 0.0028809 , 0.0028809 , 0.0028809 ,\n",
       "       0.0028809 , 0.0028809 , 0.0028809 , 0.0028809 , 0.0028809 ,\n",
       "       0.0028809 , 0.0028809 , 0.0028809 , 0.0028809 , 0.0028809 ,\n",
       "       0.0028809 , 0.0028809 , 0.0028809 , 0.0028809 , 0.0028809 ,\n",
       "       0.0028809 , 0.0028809 , 0.0028809 , 0.0028809 , 0.0028809 ,\n",
       "       0.0028809 , 0.0028809 , 0.0028809 , 0.0028809 , 0.0028809 ,\n",
       "       0.0028809 , 0.0028809 , 0.0028809 , 0.0028809 , 0.0028809 ,\n",
       "       0.0028809 , 0.0028809 , 0.0028809 , 0.0028809 , 0.0028809 ,\n",
       "       0.0028809 , 0.0028809 , 0.0028809 , 0.0028809 , 0.0028809 ,\n",
       "       0.0028809 , 0.0028809 , 0.0028809 , 0.0028809 , 0.0028809 ,\n",
       "       0.0028809 , 0.0028809 , 0.0028809 , 0.0028809 , 0.0028809 ,\n",
       "       0.0028809 , 0.0028809 , 0.0028809 , 0.0028809 , 0.0028809 ,\n",
       "       0.0028809 , 0.0028809 , 0.0028809 , 0.0028809 , 0.0028809 ,\n",
       "       0.0028809 , 0.0028809 , 0.0028809 , 0.0028809 , 0.0028809 ,\n",
       "       0.0028809 , 0.0028809 , 0.0028809 , 0.0028809 , 0.0028809 ,\n",
       "       0.0028809 , 0.0028809 , 0.0028809 , 0.0028809 , 0.0028809 ])"
      ]
     },
     "execution_count": 31,
     "metadata": {},
     "output_type": "execute_result"
    }
   ],
   "source": [
    "historico_loss = np.array(historico_loss)\n",
    "historico_loss"
   ]
  },
  {
   "cell_type": "code",
   "execution_count": 32,
   "id": "7b7e3b31",
   "metadata": {},
   "outputs": [
    {
     "data": {
      "text/plain": [
       "Text(0, 0.5, 'Erro')"
      ]
     },
     "execution_count": 32,
     "metadata": {},
     "output_type": "execute_result"
    },
    {
     "data": {
      "image/png": "[encoded data removed]",
      "text/plain": [
       "<Figure size 640x480 with 1 Axes>"
      ]
     },
     "metadata": {},
     "output_type": "display_data"
    }
   ],
   "source": [
    "import matplotlib.pyplot as plt\n",
    "plt.plot(historico_loss)\n",
    "plt.title('Progressão do erro')\n",
    "plt.xlabel('Batches')\n",
    "plt.ylabel('Erro')"
   ]
  },
  {
   "cell_type": "code",
   "execution_count": 33,
   "id": "fdf1101d",
   "metadata": {},
   "outputs": [],
   "source": [
    "modelo.to_disk(\"modelo\")"
   ]
  },
  {
   "cell_type": "markdown",
   "id": "6331fa67",
   "metadata": {},
   "source": [
    "## Testes com uma frase"
   ]
  },
  {
   "cell_type": "markdown",
   "id": "8f100070",
   "metadata": {},
   "source": [
    "### Texto positivo"
   ]
  },
  {
   "cell_type": "code",
   "execution_count": 34,
   "id": "12214c70",
   "metadata": {},
   "outputs": [
    {
     "data": {
      "text/plain": [
       "<spacy.lang.pt.Portuguese at 0x1efc639d450>"
      ]
     },
     "execution_count": 34,
     "metadata": {},
     "output_type": "execute_result"
    }
   ],
   "source": [
    "modelo_carregado = spacy.load(\"modelo\")\n",
    "modelo_carregado"
   ]
  },
  {
   "cell_type": "code",
   "execution_count": 35,
   "id": "cf20c92e",
   "metadata": {},
   "outputs": [
    {
     "data": {
      "text/plain": [
       "'  fico feliz q recíproco emocaopositivo'"
      ]
     },
     "execution_count": 35,
     "metadata": {},
     "output_type": "execute_result"
    }
   ],
   "source": [
    "texto_positivo = base_teste['tweet_text'][21]\n",
    "texto_positivo"
   ]
  },
  {
   "cell_type": "code",
   "execution_count": 36,
   "id": "2e1d83f3",
   "metadata": {},
   "outputs": [
    {
     "data": {
      "text/plain": [
       "  fico feliz q recíproco emocaopositivo"
      ]
     },
     "execution_count": 36,
     "metadata": {},
     "output_type": "execute_result"
    }
   ],
   "source": [
    "previsao = modelo_carregado(texto_positivo)\n",
    "previsao"
   ]
  },
  {
   "cell_type": "code",
   "execution_count": 37,
   "id": "9354a86f",
   "metadata": {},
   "outputs": [
    {
     "data": {
      "text/plain": [
       "{'POSITIVO': 1.0, 'NEGATIVO': 4.9260780343729493e-08}"
      ]
     },
     "execution_count": 37,
     "metadata": {},
     "output_type": "execute_result"
    }
   ],
   "source": [
    "previsao.cats"
   ]
  },
  {
   "cell_type": "code",
   "execution_count": 38,
   "id": "53381f72",
   "metadata": {},
   "outputs": [
    {
     "data": {
      "text/plain": [
       "'gostar'"
      ]
     },
     "execution_count": 38,
     "metadata": {},
     "output_type": "execute_result"
    }
   ],
   "source": [
    "texto_positivo = 'eu gosto muito de você'\n",
    "texto_positivo = preprocessamento(texto_positivo)\n",
    "texto_positivo"
   ]
  },
  {
   "cell_type": "code",
   "execution_count": 39,
   "id": "7132db7d",
   "metadata": {},
   "outputs": [
    {
     "data": {
      "text/plain": [
       "{'POSITIVO': 0.9742851853370667, 'NEGATIVO': 0.02571478858590126}"
      ]
     },
     "execution_count": 39,
     "metadata": {},
     "output_type": "execute_result"
    }
   ],
   "source": [
    "modelo_carregado(texto_positivo).cats"
   ]
  },
  {
   "cell_type": "markdown",
   "id": "c70bbc9c",
   "metadata": {},
   "source": [
    "### Texto negativo"
   ]
  },
  {
   "cell_type": "code",
   "execution_count": 40,
   "id": "2d4a5b7e",
   "metadata": {},
   "outputs": [
    {
     "data": {
      "text/plain": [
       "'tô triste de o filme de o mulan mushu emocaonegativo'"
      ]
     },
     "execution_count": 40,
     "metadata": {},
     "output_type": "execute_result"
    }
   ],
   "source": [
    "base_teste['tweet_text'][4000]"
   ]
  },
  {
   "cell_type": "code",
   "execution_count": 41,
   "id": "839933a5",
   "metadata": {},
   "outputs": [
    {
     "data": {
      "text/plain": [
       "tô triste de o filme de o mulan mushu emocaonegativo"
      ]
     },
     "execution_count": 41,
     "metadata": {},
     "output_type": "execute_result"
    }
   ],
   "source": [
    "texto_negativo = base_teste['tweet_text'][4000]\n",
    "previsao = modelo_carregado(texto_negativo)\n",
    "previsao"
   ]
  },
  {
   "cell_type": "code",
   "execution_count": 42,
   "id": "d5360e1d",
   "metadata": {},
   "outputs": [
    {
     "data": {
      "text/plain": [
       "{'POSITIVO': 1.1883741102280965e-08, 'NEGATIVO': 1.0}"
      ]
     },
     "execution_count": 42,
     "metadata": {},
     "output_type": "execute_result"
    }
   ],
   "source": [
    "previsao.cats"
   ]
  },
  {
   "cell_type": "markdown",
   "id": "9bd87ee6",
   "metadata": {},
   "source": [
    "## Avaliação do modelo"
   ]
  },
  {
   "cell_type": "code",
   "execution_count": 43,
   "id": "d0a015ae",
   "metadata": {},
   "outputs": [],
   "source": [
    "previsoes = []\n",
    "for texto in base_teste['tweet_text']:\n",
    "    previsao = modelo_carregado(texto)\n",
    "    previsoes.append(previsao.cats)"
   ]
  },
  {
   "cell_type": "code",
   "execution_count": 44,
   "id": "cd6d5b9b",
   "metadata": {},
   "outputs": [],
   "source": [
    "previsoes_final = []\n",
    "for previsao in previsoes:\n",
    "    if previsao[\"POSITIVO\"] > previsao[\"NEGATIVO\"]:\n",
    "        previsoes_final.append(1)\n",
    "    else:\n",
    "        previsoes_final.append(0)\n",
    "        \n",
    "previsoes_final = np.array(previsoes_final)"
   ]
  },
  {
   "cell_type": "code",
   "execution_count": 45,
   "id": "19880d52",
   "metadata": {},
   "outputs": [],
   "source": [
    "respostas_reais = base_teste['sentiment'].values"
   ]
  },
  {
   "cell_type": "code",
   "execution_count": 46,
   "id": "7abf8081",
   "metadata": {},
   "outputs": [
    {
     "data": {
      "text/plain": [
       "0.9964"
      ]
     },
     "execution_count": 46,
     "metadata": {},
     "output_type": "execute_result"
    }
   ],
   "source": [
    "from sklearn.metrics import accuracy_score\n",
    "accuracy_score(respostas_reais, previsoes_final)"
   ]
  },
  {
   "cell_type": "code",
   "execution_count": 47,
   "id": "1c18a800",
   "metadata": {},
   "outputs": [
    {
     "data": {
      "text/plain": [
       "array([[2493,    7],\n",
       "       [  11, 2489]], dtype=int64)"
      ]
     },
     "execution_count": 47,
     "metadata": {},
     "output_type": "execute_result"
    }
   ],
   "source": [
    "from sklearn.metrics import confusion_matrix\n",
    "cm = confusion_matrix(respostas_reais, previsoes_final)\n",
    "cm"
   ]
  },
  {
   "cell_type": "code",
   "execution_count": 48,
   "id": "f299e689",
   "metadata": {},
   "outputs": [
    {
     "data": {
      "text/plain": [
       "<Axes: >"
      ]
     },
     "execution_count": 48,
     "metadata": {},
     "output_type": "execute_result"
    },
    {
     "data": {
      "image/png": "[encoded data removed]",
      "text/plain": [
       "<Figure size 640x480 with 2 Axes>"
      ]
     },
     "metadata": {},
     "output_type": "display_data"
    }
   ],
   "source": [
    "sns.heatmap(cm, annot=True)"
   ]
  }
 ],
 "metadata": {
  "kernelspec": {
   "display_name": "Python 3 (ipykernel)",
   "language": "python",
   "name": "python3"
  },
  "language_info": {
   "codemirror_mode": {
    "name": "ipython",
    "version": 3
   },
   "file_extension": ".py",
   "mimetype": "text/x-python",
   "name": "python",
   "nbconvert_exporter": "python",
   "pygments_lexer": "ipython3",
   "version": "3.11.7"
  }
 },
 "nbformat": 4,
 "nbformat_minor": 5
}
